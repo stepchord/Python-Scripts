{
 "cells": [
  {
   "cell_type": "code",
   "execution_count": 1,
   "id": "15a5b894",
   "metadata": {},
   "outputs": [],
   "source": [
    "import os\n",
    "myDir = \"구입물품 검수사진_2022-08-22\"\n",
    "\n",
    "# myOldName = \"1_3.3V 5V 듀얼 전원 공급 모듈 [PWR030007]_5개 - 복사본.jpg\"\n",
    "# myNewName = \"1_3.3V 5V 듀얼 전원 공급 모듈 [PWR030007]_5개 - 새이름.jpg\"\n",
    "\n",
    "oldNameList = [\"1_3.3V 5V 듀얼 전원 공급 모듈 [PWR030007]_5개\",\"2_AMS1117-3.3V_20개\",\"4_손도리 고급형 필라멘트 PLA++ [색상선택] - 옵션  그린_4개\",\"5_LM2596 5V 전원 레귤레이터 모듈 [PWR060010]_10개\",\"7_MPU-6050 6축 자이로 가속도 센서 모듈 GY-521 [SZH-EK007]_10개\",\"10_NEO-6M GPS 모듈 GY-GPS6MV2 [SZH-EK095]_5개\",\"11_NEO-7M 아두이노 GPS 수신모듈 [SZH-NT07]_5개\",\"17_IRF540NS_10개\",\"18_FDS2572_10개\",\"21_[MEISHUO] MPY-S-112-A-P_5개\",\"22_[MEISHUO] MPY-S-124-A-P_5개\",\"23_[OMRON] 릴레이 G5LE-1 DC48_5개\",\"24_FWB-Mrfidcard_1개\",\"25_[OEM] 아두이노 RFID 모듈 RFID-RC522 [SZH-EK040]_2개\",\"26_Mini 125Khz RFID Module - External LED&Buzzer Port (70mm Reading Distance) [113990043]_2개\",\"27_[OEM] RFID KEY CHAIN 08_5개\",\"28_RFID tag combo (125khz) - 5pcs [110990035]_2개\",\"29_[YwRobot] DS1307 고정밀 실시간 클록 RTC 모듈 [ELB040503]_5개\",\"30_[YwRobot] 아두이노 MicroSD 카드 소켓 모듈 [ELB060505]_10개\",\"33_XL6009 DC컨버터 스텝업 승압용 가변 정전압 모듈 [SZH-EKBD-056]_5개\",\"34_[SMG-A] MT3608 2A 스텝업 DC컨버터 모듈 [SZH-EKBD-063]_5개\",\"35_LM2596 강하형 DC-DC 가변 컨버터 [SZH-PWSD-001]_5개\",\"36_[유니라벨] 감열 롤 라벨 50mm X 30mm X 1500매 (40mm지관)_2개\",\"37_[유니라벨] 감열 롤 라벨 100mm X 40mm X 1200매 (40mm지관)_2개\",\"38_CO Sensor(GSET11)_5개\",\"39_VOCs Sensor(GSBT11)_5개\",\"40_Smoke Sensor(GSAT11)_5개\",\"41_Smoke Sensor(GSAS61)_5개\",\"42_MPG Sensor(GSMS61)_5개\",\"43_CO Sensor Module(GSET11-P110)_1개\",\"44_VOCs Sensor Module(GSBT11-P110)_1개\",\"45_Smoke Sensor Module(GSAT11-P110)_1개\",\"46_Smoke Sensor Module(GSAS61-P110)_1개\",\"47_LPG NG Module(GSMS61-P110)_1개\",\"48_핫멜트건 GR-550_1개\",\"49_핫멜트스틱(대) 10개_5개\",\"50_BR-762C (2핀)_30개\",\"51_BR-950C(2핀)_30개\",\"52_화신박스 단자함 EN AGS-111107_5개\",\"53_화신박스 단자함 EN AGS-081107_5개\",\"54_화신박스 단자함 EN AGS-081507_5개\",\"55_원터치드릴척-CDA-13(1.5~13mm) 육각생크_1개\",\"56_아두이노 4채널 TTL 3.3V 5V 컨버터 모듈 [ELB060213]_10개\",\"57_핸드 리베터기 [K45603]_2개\",\"58_18650 리튬이온 배터리 3.7V 2600mAh   보호회로 내장형   1EA (낱개판매) [UB848]_10개\",\"59_건전지 홀더 배터리 홀더, 18650 x 1ea, 80mm   제작용 [BB521]_10개\",\"60_배터리 홀더(18650) 1구 2선 전원 15cm[ND721]_10개\",\"61_[ GA3 ] 100 x 100 사각 만능 기판 - 양면_5개\",\"62_[MDIY] 매미고리 1-20_10개\",\"63_[OEM] GP2Y1014AU0F 먼지 센서 [SZH-SSBH-100]_4개\",\"64_디지털 멀티미터 UT33A+_2개\",\"65_목공용접착제-401 Woodglue 120g (2549204)_2개\",\"66_5051용 클림프 (낱단자)_500개\",\"67_몽키스패너 10인치 [540510]_2개\",\"68_1급 방진 마스크 1팩(10EA)   흰색   (VC102V)_2개\",\"69_MCP73831T-2ACI OT_10개\",\"70_스텐 노기스 디지털 캘리퍼스 RC-TB0075 [사이즈 선택] 150_2개\",\"71_S-504A_2개\",\"72_센터펀치(자동)-KS-130(중)_1개\",\"73_리벳못(스테인리스)-3.2mmx11 200EA_1개\",\"74_리벳못(스테인리스)-4.8mmx16 200EA_1개\",\"75_신에츠 내곰팡이용 바이오실리콘(욕실,주방), 270mL [투명]_2개\",\"76_RTV실리콘 KE-45, 100g (투명)_2개\",\"79_절연압착단자 종합키트 v2 [NT-KIT-CN003]_1개\",\"80_절연압착단자 종합키트 v1 [NT-KIT-CN002]_1개\",\"81_DS18B20 방수형 온도센서 모듈 (연결용 터미널블럭모듈 포함) [SEN050007]_10개\",\"82_티피링크 Tapo P100 (2EA) 스마트 와이파이 플러그 구글홈 AI 음성제어 콘센트 2PACK_1개\",\"83_ipTIME N702E PLUS (유무선공유기) ▶ N702E 후속모델 ◀_3개\",\"84_PU-TOP코팅장갑-회색 L_20개\",\"85_PU-TOP코팅장갑-백색 M_20개\",\"86_PU-PALM장갑-흑색XL PU-6734_20개\",\"87_[GSH-151820] UL1015-AWG18_20 (20M) (검정색)_1개\",\"88_[GSH-151821] UL1015-AWG18_20 (20M) (빨간색)_1개\",\"89_주방 전자저울 JSK-20049_1개\",\"90_자동 줄자 10m [580010]_1개\",\"92_직쏘날 금속용 DT2150_1개\",\"93_칩저항 2012사이즈 F급 1.24KΩ_200개\",\"94_칩저항 2012사이즈 F급 11.3KΩ_200개\",\"95_케이블그랜드 BC-M16-G_20개\",\"96_케이블그랜드 BC-M20-G_20개\",\"97_카이스전자 케이블타이, 300개, [특대 370mm] [블랙]_1개\",\"98_카이스전자 케이블타이, 100개, [특대 450mm] [블랙]_1개\",\"99_코너보호대 삼면 크롬 중_10개\",\"103_4N35_10개\",\"104_홀커터-16MM_1개\",\"105_홀커터-20MM_1개\"]\n",
    "newNameList = [\"1_3.3V 5V 듀얼 전원 공급 모듈 [PWR030007]_5개\",\"2_AMS1117-3.3V_20개\",\"3_손도리 고급형 필라멘트 PLA++ [색상선택] - 옵션  그린_4개\",\"4_LM2596 5V 전원 레귤레이터 모듈 [PWR060010]_10개\",\"6_MPU-6050 6축 자이로 가속도 센서 모듈 GY-521 [SZH-EK007]_10개\",\"9_NEO-6M GPS 모듈 GY-GPS6MV2 [SZH-EK095]_5개\",\"10_NEO-7M 아두이노 GPS 수신모듈 [SZH-NT07]_5개\",\"13_IRF540NS_10개\",\"14_FDS2572_10개\",\"17_[MEISHUO] MPY-S-112-A-P_5개\",\"18_[MEISHUO] MPY-S-124-A-P_5개\",\"19_[OMRON] 릴레이 G5LE-1 DC48_5개\",\"20_FWB-Mrfidcard_1개\",\"21_[OEM] 아두이노 RFID 모듈 RFID-RC522 [SZH-EK040]_2개\",\"22_Mini 125Khz RFID Module - External LED&Buzzer Port (70mm Reading Distance) [113990043]_2개\",\"23_[OEM] RFID KEY CHAIN 08_5개\",\"24_RFID tag combo (125khz) - 5pcs [110990035]_2개\",\"25_[YwRobot] DS1307 고정밀 실시간 클록 RTC 모듈 [ELB040503]_5개\",\"26_[YwRobot] 아두이노 MicroSD 카드 소켓 모듈 [ELB060505]_10개\",\"29_XL6009 DC컨버터 스텝업 승압용 가변 정전압 모듈 [SZH-EKBD-056]_5개\",\"30_[SMG-A] MT3608 2A 스텝업 DC컨버터 모듈 [SZH-EKBD-063]_5개\",\"31_LM2596 강하형 DC-DC 가변 컨버터 [SZH-PWSD-001]_5개\",\"32_[유니라벨] 감열 롤 라벨 50mm X 30mm X 1500매 (40mm지관)_2개\",\"33_[유니라벨] 감열 롤 라벨 100mm X 40mm X 1200매 (40mm지관)_2개\",\"34_CO Sensor(GSET11)_5개\",\"35_VOCs Sensor(GSBT11)_5개\",\"36_Smoke Sensor(GSAT11)_5개\",\"37_Smoke Sensor(GSAS61)_5개\",\"38_MPG Sensor(GSMS61)_5개\",\"39_CO Sensor Module(GSET11-P110)_1개\",\"40_VOCs Sensor Module(GSBT11-P110)_1개\",\"41_Smoke Sensor Module(GSAT11-P110)_1개\",\"42_Smoke Sensor Module(GSAS61-P110)_1개\",\"43_LPG NG Module(GSMS61-P110)_1개\",\"44_핫멜트건 GR-550_1개\",\"45_핫멜트스틱(대) 10개_5개\",\"46_BR-762C (2핀)_30개\",\"47_BR-950C(2핀)_30개\",\"48_화신박스 단자함 EN AGS-111107_5개\",\"49_화신박스 단자함 EN AGS-081107_5개\",\"50_화신박스 단자함 EN AGS-081507_5개\",\"51_원터치드릴척-CDA-13(1.5~13mm) 육각생크_1개\",\"52_아두이노 4채널 TTL 3.3V 5V 컨버터 모듈 [ELB060213]_10개\",\"53_핸드 리베터기 [K45603]_2개\",\"54_18650 리튬이온 배터리 3.7V 2600mAh   보호회로 내장형   1EA (낱개판매) [UB848]_10개\",\"55_건전지 홀더 배터리 홀더, 18650 x 1ea, 80mm   제작용 [BB521]_10개\",\"56_배터리 홀더(18650) 1구 2선 전원 15cm[ND721]_10개\",\"57_[ GA3 ] 100 x 100 사각 만능 기판 - 양면_5개\",\"58_[MDIY] 매미고리 1-20_10개\",\"59_[OEM] GP2Y1014AU0F 먼지 센서 [SZH-SSBH-100]_4개\",\"60_디지털 멀티미터 UT33A+_2개\",\"61_목공용접착제-401 Woodglue 120g (2549204)_2개\",\"62_5051용 클림프 (낱단자)_500개\",\"63_몽키스패너 10인치 [540510]_2개\",\"64_1급 방진 마스크 1팩(10EA)   흰색   (VC102V)_2개\",\"65_MCP73831T-2ACI OT_10개\",\"66_스텐 노기스 디지털 캘리퍼스 RC-TB0075 [사이즈 선택] 150_2개\",\"67_S-504A_2개\",\"68_센터펀치(자동)-KS-130(중)_1개\",\"69_리벳못(스테인리스)-3.2mmx11 200EA_1개\",\"70_리벳못(스테인리스)-4.8mmx16 200EA_1개\",\"71_신에츠 내곰팡이용 바이오실리콘(욕실,주방), 270mL [투명]_2개\",\"72_RTV실리콘 KE-45, 100g (투명)_2개\",\"74_절연압착단자 종합키트 v2 [NT-KIT-CN003]_1개\",\"75_절연압착단자 종합키트 v1 [NT-KIT-CN002]_1개\",\"76_DS18B20 방수형 온도센서 모듈 (연결용 터미널블럭모듈 포함) [SEN050007]_10개\",\"77_티피링크 Tapo P100 (2EA) 스마트 와이파이 플러그 구글홈 AI 음성제어 콘센트 2PACK_1개\",\"78_ipTIME N702E PLUS (유무선공유기) ▶ N702E 후속모델 ◀_3개\",\"79_PU-TOP코팅장갑-회색 L_20개\",\"80_PU-TOP코팅장갑-백색 M_20개\",\"81_PU-PALM장갑-흑색XL PU-6734_20개\",\"82_[GSH-151820] UL1015-AWG18_20 (20M) (검정색)_1개\",\"83_[GSH-151821] UL1015-AWG18_20 (20M) (빨간색)_1개\",\"84_주방 전자저울 JSK-20049_1개\",\"85_자동 줄자 10m [580010]_1개\",\"87_직쏘날 금속용 DT2150_1개\",\"88_칩저항 2012사이즈 F급 1.24KΩ_200개\",\"89_칩저항 2012사이즈 F급 11.3KΩ_200개\",\"90_케이블그랜드 BC-M16-G_20개\",\"91_케이블그랜드 BC-M20-G_20개\",\"92_카이스전자 케이블타이, 300개, [특대 370mm] [블랙]_1개\",\"93_카이스전자 케이블타이, 100개, [특대 450mm] [블랙]_1개\",\"94_코너보호대 삼면 크롬 중_10개\",\"98_4N35_10개\",\"99_홀커터-16MM_1개\",\"100_홀커터-20MM_1개\"]\n"
   ]
  },
  {
   "cell_type": "code",
   "execution_count": 8,
   "id": "6dbe16d6",
   "metadata": {},
   "outputs": [],
   "source": [
    "for i in range(len(oldNameList)):\n",
    "    oldPath = os.path.join(myDir, oldNameList[i]+\".jpg\")\n",
    "    newPath = os.path.join(myDir, newNameList[i]+\".jpg\")\n",
    "    os.rename(oldPath, newPath)"
   ]
  },
  {
   "cell_type": "code",
   "execution_count": null,
   "id": "8b20d178",
   "metadata": {},
   "outputs": [],
   "source": [
    "oldPath = os.path.join(myDir, myOldName)\n",
    "newPath = os.path.join(myDir, myNewName)"
   ]
  },
  {
   "cell_type": "code",
   "execution_count": null,
   "id": "44e2ae17",
   "metadata": {},
   "outputs": [],
   "source": [
    "os.rename(oldPath, newPath)"
   ]
  },
  {
   "cell_type": "code",
   "execution_count": 4,
   "id": "9d6ff293",
   "metadata": {},
   "outputs": [
    {
     "data": {
      "text/plain": [
       "str"
      ]
     },
     "execution_count": 4,
     "metadata": {},
     "output_type": "execute_result"
    }
   ],
   "source": [
    "oldNameList[0]\n",
    "type(oldNameList[0])"
   ]
  },
  {
   "cell_type": "code",
   "execution_count": 6,
   "id": "984f41c7",
   "metadata": {},
   "outputs": [
    {
     "data": {
      "text/plain": [
       "86"
      ]
     },
     "execution_count": 6,
     "metadata": {},
     "output_type": "execute_result"
    }
   ],
   "source": [
    "len(oldNameList)"
   ]
  },
  {
   "cell_type": "code",
   "execution_count": null,
   "id": "3b8eac36",
   "metadata": {},
   "outputs": [],
   "source": []
  }
 ],
 "metadata": {
  "kernelspec": {
   "display_name": "Python 3 (ipykernel)",
   "language": "python",
   "name": "python3"
  },
  "language_info": {
   "codemirror_mode": {
    "name": "ipython",
    "version": 3
   },
   "file_extension": ".py",
   "mimetype": "text/x-python",
   "name": "python",
   "nbconvert_exporter": "python",
   "pygments_lexer": "ipython3",
   "version": "3.9.7"
  }
 },
 "nbformat": 4,
 "nbformat_minor": 5
}
