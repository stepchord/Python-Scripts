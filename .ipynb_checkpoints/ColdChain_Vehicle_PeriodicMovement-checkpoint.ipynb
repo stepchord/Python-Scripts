{
 "cells": [
  {
   "cell_type": "code",
   "execution_count": 8,
   "id": "636305ce",
   "metadata": {},
   "outputs": [],
   "source": [
    "from datetime import datetime\n",
    "now = datetime.now()\n",
    "myTimestamp = now.strftime('%y%m%d%H%M%S')"
   ]
  },
  {
   "cell_type": "code",
   "execution_count": 9,
   "id": "fd883380",
   "metadata": {},
   "outputs": [
    {
     "name": "stdout",
     "output_type": "stream",
     "text": [
      "-1.2632776339513176\n",
      "198.2942147862311\n",
      "60\n",
      "60\n"
     ]
    }
   ],
   "source": [
    "Lat1 = 35.179741; Lon1 = 129.120052\n",
    "Lat2 = 35.163638; Lon2 = 129.132799\n",
    "slope = (Lat2-Lat1)/(Lon2-Lon1)\n",
    "intercept = Lat1 - slope*Lon1  # Equation: Lat = slope * Lon + intercept\n",
    "print(slope)\n",
    "print(intercept)\n",
    "\n",
    "divider = 30  # 구간을 몇분할 할지 \n",
    "interval = (Lon2-Lon1)/divider\n",
    "\n",
    "myLon = [Lon1 + x*interval for x in range(0,30,1)]\n",
    "myLon = myLon + [Lon1 + x*interval for x in range(29,-1,-1)]\n",
    "\n",
    "myLat = [slope*k + intercept for k in myLon]\n",
    "\n",
    "# print(myLon)\n",
    "# print(myLat)\n",
    "print(len(myLon))\n",
    "print(len(myLat))\n"
   ]
  },
  {
   "cell_type": "code",
   "execution_count": 10,
   "id": "cee9b32a",
   "metadata": {},
   "outputs": [
    {
     "name": "stdout",
     "output_type": "stream",
     "text": [
      "{'data': [{'ser_num': 'PLZ2022C3', 'lat_c': 35.169538, 'lon_c': 129.135419, 'dof_vib': 3.2, 'dof_tilt': 1, 'err_code': 0, 'temp_in': 8, 'temp_out': 24, 'temp_goal': 5, 'cold_min_left': 251, 'bat_level': 51, 'bat_volt': 371, 'time_stamp': '221012222432', 'wifi_ssid': 'plzhwtest', 'sd_mb_now': 84}]}\n",
      "{'data': [{'01': 1, '11': '01001001001', '12': 'PLZ2022V3', '13': 'd47c44400348', '16': 'abcde12345', '17': '354481106012345', '18': 'AMM574A', '19': 'AMM574A-10-00-LG', '1A': '0612345', '21': '221012222432', '32': 100, '33': 1, '31': 55, '34': 55, '35': 12, '36': 1, '37': '00', '38': 1, '41': 35.169538, '42': 129.135419, '43': 0.798, '44': 231.8, '45': '06', '46': 13.07, '51': 1, '52': 1, '5E': 1, '5F': 1, '61': -75, '62': -16, '63': 13, '64': -50, '65': '0034190E', '66': '450', '67': '08', '68': '0002'}]}\n"
     ]
    }
   ],
   "source": [
    "import json\n",
    "\n",
    "myJson_cold = {\n",
    "    \"data\": \n",
    "    [\n",
    "        {\"ser_num\":\"PLZ2022C3\",\"lat_c\":35.169538,\"lon_c\":129.135419,\"dof_vib\":3.2,\"dof_tilt\":1,\"err_code\":0,\"temp_in\":8,\"temp_out\":24,\"temp_goal\":5,\"cold_min_left\":251,\"bat_level\":51,\"bat_volt\":371,\"time_stamp\":myTimestamp,\"wifi_ssid\":\"plzhwtest\",\"sd_mb_now\":84},\n",
    "    ]\n",
    "}\n",
    "\n",
    "myJson_vehicle = {\n",
    "    \"data\": \n",
    "    [\n",
    "        {\"01\":1,\"11\":\"01001001001\",\"12\":\"PLZ2022V3\",\"13\":\"d47c44400348\",\"16\":\"abcde12345\",\"17\":\"354481106012345\",\"18\":\"AMM574A\",\"19\":\"AMM574A-10-00-LG\",\"1A\":\"0612345\",\"21\":myTimestamp,\"32\":100,\"33\":1,\"31\":55,\"34\":55,\"35\":12,\"36\":1,\"37\":\"00\",\"38\":1,\"41\":35.169538,\"42\":129.135419,\"43\":0.798,\"44\":231.8,\"45\":\"06\",\"46\":13.07,\"51\":1,\"52\":1,\"5E\":1,\"5F\":1,\"61\":-75,\"62\":-16,\"63\":13,\"64\":-50,\"65\":\"0034190E\",\"66\":\"450\",\"67\":\"08\",\"68\":\"0002\"},\n",
    "    ]\n",
    "}\n",
    "\n",
    "print(myJson_cold)\n",
    "print(myJson_vehicle)"
   ]
  },
  {
   "cell_type": "code",
   "execution_count": 11,
   "id": "561447d3",
   "metadata": {},
   "outputs": [
    {
     "name": "stdout",
     "output_type": "stream",
     "text": [
      "{'data': [{'ser_num': 'PLZ2022C3', 'lat_c': 35.179741, 'lon_c': 129.120052, 'dof_vib': 3.2, 'dof_tilt': 1, 'err_code': 0, 'temp_in': 8, 'temp_out': 24, 'temp_goal': 5, 'cold_min_left': 251, 'bat_level': 51, 'bat_volt': 371, 'time_stamp': '221012222436', 'wifi_ssid': 'plzhwtest', 'sd_mb_now': 84}]}\n",
      "{'data': [{'01': 1, '11': '01001001001', '12': 'PLZ2022V3', '13': 'd47c44400348', '16': 'abcde12345', '17': '354481106012345', '18': 'AMM574A', '19': 'AMM574A-10-00-LG', '1A': '0612345', '21': '221012222436', '32': 100, '33': 1, '31': 55, '34': 55, '35': 12, '36': 1, '37': '00', '38': 1, '41': 35.179741, '42': 129.120052, '43': 0.798, '44': 231.8, '45': '06', '46': 13.07, '51': 1, '52': 1, '5E': 1, '5F': 1, '61': -75, '62': -16, '63': 13, '64': -50, '65': '0034190E', '66': '450', '67': '08', '68': '0002'}]}\n",
      "200\n",
      "{\"data\":[{\"ser_num\":\"PLZ2022C3\",\"lat_c\":35.179741,\"lon_c\":129.120052,\"dof_vib\":3.2,\"dof_tilt\":1,\"err_code\":0,\"temp_in\":8,\"temp_out\":24,\"temp_goal\":5,\"cold_min_left\":251,\"bat_level\":51,\"bat_volt\":371,\"time_stamp\":\"221012222436\",\"wifi_ssid\":\"plzhwtest\",\"sd_mb_now\":84}]}\n",
      "200\n",
      "{\"z1\":\"00\",\"x1\":1,\"x3\":1,\"y1\":5,\"x2\":1}\n",
      "{'data': [{'ser_num': 'PLZ2022C3', 'lat_c': 35.179204, 'lon_c': 129.120477, 'dof_vib': 3.2, 'dof_tilt': 1, 'err_code': 0, 'temp_in': 8, 'temp_out': 24, 'temp_goal': 5, 'cold_min_left': 251, 'bat_level': 51, 'bat_volt': 371, 'time_stamp': '221012222441', 'wifi_ssid': 'plzhwtest', 'sd_mb_now': 84}]}\n",
      "{'data': [{'01': 1, '11': '01001001001', '12': 'PLZ2022V3', '13': 'd47c44400348', '16': 'abcde12345', '17': '354481106012345', '18': 'AMM574A', '19': 'AMM574A-10-00-LG', '1A': '0612345', '21': '221012222441', '32': 100, '33': 1, '31': 55, '34': 55, '35': 12, '36': 1, '37': '00', '38': 1, '41': 35.179204, '42': 129.120477, '43': 0.798, '44': 231.8, '45': '06', '46': 13.07, '51': 1, '52': 1, '5E': 1, '5F': 1, '61': -75, '62': -16, '63': 13, '64': -50, '65': '0034190E', '66': '450', '67': '08', '68': '0002'}]}\n",
      "200\n",
      "{\"data\":[{\"ser_num\":\"PLZ2022C3\",\"lat_c\":35.179204,\"lon_c\":129.120477,\"dof_vib\":3.2,\"dof_tilt\":1,\"err_code\":0,\"temp_in\":8,\"temp_out\":24,\"temp_goal\":5,\"cold_min_left\":251,\"bat_level\":51,\"bat_volt\":371,\"time_stamp\":\"221012222441\",\"wifi_ssid\":\"plzhwtest\",\"sd_mb_now\":84}]}\n",
      "200\n",
      "{\"z1\":\"00\",\"x1\":1,\"x3\":1,\"y1\":5,\"x2\":1}\n",
      "{'data': [{'ser_num': 'PLZ2022C3', 'lat_c': 35.178667, 'lon_c': 129.120902, 'dof_vib': 3.2, 'dof_tilt': 1, 'err_code': 0, 'temp_in': 8, 'temp_out': 24, 'temp_goal': 5, 'cold_min_left': 251, 'bat_level': 51, 'bat_volt': 371, 'time_stamp': '221012222446', 'wifi_ssid': 'plzhwtest', 'sd_mb_now': 84}]}\n",
      "{'data': [{'01': 1, '11': '01001001001', '12': 'PLZ2022V3', '13': 'd47c44400348', '16': 'abcde12345', '17': '354481106012345', '18': 'AMM574A', '19': 'AMM574A-10-00-LG', '1A': '0612345', '21': '221012222446', '32': 100, '33': 1, '31': 55, '34': 55, '35': 12, '36': 1, '37': '00', '38': 1, '41': 35.178667, '42': 129.120902, '43': 0.798, '44': 231.8, '45': '06', '46': 13.07, '51': 1, '52': 1, '5E': 1, '5F': 1, '61': -75, '62': -16, '63': 13, '64': -50, '65': '0034190E', '66': '450', '67': '08', '68': '0002'}]}\n",
      "200\n",
      "{\"data\":[{\"ser_num\":\"PLZ2022C3\",\"lat_c\":35.178667,\"lon_c\":129.120902,\"dof_vib\":3.2,\"dof_tilt\":1,\"err_code\":0,\"temp_in\":8,\"temp_out\":24,\"temp_goal\":5,\"cold_min_left\":251,\"bat_level\":51,\"bat_volt\":371,\"time_stamp\":\"221012222446\",\"wifi_ssid\":\"plzhwtest\",\"sd_mb_now\":84}]}\n",
      "200\n",
      "{\"z1\":\"00\",\"x1\":1,\"x3\":1,\"y1\":5,\"x2\":1}\n",
      "{'data': [{'ser_num': 'PLZ2022C3', 'lat_c': 35.178131, 'lon_c': 129.121327, 'dof_vib': 3.2, 'dof_tilt': 1, 'err_code': 0, 'temp_in': 8, 'temp_out': 24, 'temp_goal': 5, 'cold_min_left': 251, 'bat_level': 51, 'bat_volt': 371, 'time_stamp': '221012222452', 'wifi_ssid': 'plzhwtest', 'sd_mb_now': 84}]}\n",
      "{'data': [{'01': 1, '11': '01001001001', '12': 'PLZ2022V3', '13': 'd47c44400348', '16': 'abcde12345', '17': '354481106012345', '18': 'AMM574A', '19': 'AMM574A-10-00-LG', '1A': '0612345', '21': '221012222452', '32': 100, '33': 1, '31': 55, '34': 55, '35': 12, '36': 1, '37': '00', '38': 1, '41': 35.178131, '42': 129.121327, '43': 0.798, '44': 231.8, '45': '06', '46': 13.07, '51': 1, '52': 1, '5E': 1, '5F': 1, '61': -75, '62': -16, '63': 13, '64': -50, '65': '0034190E', '66': '450', '67': '08', '68': '0002'}]}\n",
      "200\n",
      "{\"data\":[{\"ser_num\":\"PLZ2022C3\",\"lat_c\":35.178131,\"lon_c\":129.121327,\"dof_vib\":3.2,\"dof_tilt\":1,\"err_code\":0,\"temp_in\":8,\"temp_out\":24,\"temp_goal\":5,\"cold_min_left\":251,\"bat_level\":51,\"bat_volt\":371,\"time_stamp\":\"221012222452\",\"wifi_ssid\":\"plzhwtest\",\"sd_mb_now\":84}]}\n",
      "200\n",
      "{\"z1\":\"00\",\"x1\":1,\"x3\":1,\"y1\":5,\"x2\":1}\n",
      "{'data': [{'ser_num': 'PLZ2022C3', 'lat_c': 35.177594, 'lon_c': 129.121752, 'dof_vib': 3.2, 'dof_tilt': 1, 'err_code': 0, 'temp_in': 8, 'temp_out': 24, 'temp_goal': 5, 'cold_min_left': 251, 'bat_level': 51, 'bat_volt': 371, 'time_stamp': '221012222457', 'wifi_ssid': 'plzhwtest', 'sd_mb_now': 84}]}\n",
      "{'data': [{'01': 1, '11': '01001001001', '12': 'PLZ2022V3', '13': 'd47c44400348', '16': 'abcde12345', '17': '354481106012345', '18': 'AMM574A', '19': 'AMM574A-10-00-LG', '1A': '0612345', '21': '221012222457', '32': 100, '33': 1, '31': 55, '34': 55, '35': 12, '36': 1, '37': '00', '38': 1, '41': 35.177594, '42': 129.121752, '43': 0.798, '44': 231.8, '45': '06', '46': 13.07, '51': 1, '52': 1, '5E': 1, '5F': 1, '61': -75, '62': -16, '63': 13, '64': -50, '65': '0034190E', '66': '450', '67': '08', '68': '0002'}]}\n",
      "200\n",
      "{\"data\":[{\"ser_num\":\"PLZ2022C3\",\"lat_c\":35.177594,\"lon_c\":129.121752,\"dof_vib\":3.2,\"dof_tilt\":1,\"err_code\":0,\"temp_in\":8,\"temp_out\":24,\"temp_goal\":5,\"cold_min_left\":251,\"bat_level\":51,\"bat_volt\":371,\"time_stamp\":\"221012222457\",\"wifi_ssid\":\"plzhwtest\",\"sd_mb_now\":84}]}\n",
      "200\n",
      "{\"z1\":\"00\",\"x1\":1,\"x3\":1,\"y1\":5,\"x2\":1}\n",
      "{'data': [{'ser_num': 'PLZ2022C3', 'lat_c': 35.177057, 'lon_c': 129.122176, 'dof_vib': 3.2, 'dof_tilt': 1, 'err_code': 0, 'temp_in': 8, 'temp_out': 24, 'temp_goal': 5, 'cold_min_left': 251, 'bat_level': 51, 'bat_volt': 371, 'time_stamp': '221012222502', 'wifi_ssid': 'plzhwtest', 'sd_mb_now': 84}]}\n",
      "{'data': [{'01': 1, '11': '01001001001', '12': 'PLZ2022V3', '13': 'd47c44400348', '16': 'abcde12345', '17': '354481106012345', '18': 'AMM574A', '19': 'AMM574A-10-00-LG', '1A': '0612345', '21': '221012222502', '32': 100, '33': 1, '31': 55, '34': 55, '35': 12, '36': 1, '37': '00', '38': 1, '41': 35.177057, '42': 129.122176, '43': 0.798, '44': 231.8, '45': '06', '46': 13.07, '51': 1, '52': 1, '5E': 1, '5F': 1, '61': -75, '62': -16, '63': 13, '64': -50, '65': '0034190E', '66': '450', '67': '08', '68': '0002'}]}\n",
      "200\n",
      "{\"data\":[{\"ser_num\":\"PLZ2022C3\",\"lat_c\":35.177057,\"lon_c\":129.122176,\"dof_vib\":3.2,\"dof_tilt\":1,\"err_code\":0,\"temp_in\":8,\"temp_out\":24,\"temp_goal\":5,\"cold_min_left\":251,\"bat_level\":51,\"bat_volt\":371,\"time_stamp\":\"221012222502\",\"wifi_ssid\":\"plzhwtest\",\"sd_mb_now\":84}]}\n",
      "200\n",
      "{\"z1\":\"00\",\"x1\":1,\"x3\":1,\"y1\":5,\"x2\":1}\n",
      "{'data': [{'ser_num': 'PLZ2022C3', 'lat_c': 35.17652, 'lon_c': 129.122601, 'dof_vib': 3.2, 'dof_tilt': 1, 'err_code': 0, 'temp_in': 8, 'temp_out': 24, 'temp_goal': 5, 'cold_min_left': 251, 'bat_level': 51, 'bat_volt': 371, 'time_stamp': '221012222507', 'wifi_ssid': 'plzhwtest', 'sd_mb_now': 84}]}\n",
      "{'data': [{'01': 1, '11': '01001001001', '12': 'PLZ2022V3', '13': 'd47c44400348', '16': 'abcde12345', '17': '354481106012345', '18': 'AMM574A', '19': 'AMM574A-10-00-LG', '1A': '0612345', '21': '221012222507', '32': 100, '33': 1, '31': 55, '34': 55, '35': 12, '36': 1, '37': '00', '38': 1, '41': 35.17652, '42': 129.122601, '43': 0.798, '44': 231.8, '45': '06', '46': 13.07, '51': 1, '52': 1, '5E': 1, '5F': 1, '61': -75, '62': -16, '63': 13, '64': -50, '65': '0034190E', '66': '450', '67': '08', '68': '0002'}]}\n",
      "200\n",
      "{\"data\":[{\"ser_num\":\"PLZ2022C3\",\"lat_c\":35.17652,\"lon_c\":129.122601,\"dof_vib\":3.2,\"dof_tilt\":1,\"err_code\":0,\"temp_in\":8,\"temp_out\":24,\"temp_goal\":5,\"cold_min_left\":251,\"bat_level\":51,\"bat_volt\":371,\"time_stamp\":\"221012222507\",\"wifi_ssid\":\"plzhwtest\",\"sd_mb_now\":84}]}\n",
      "200\n",
      "{\"z1\":\"00\",\"x1\":1,\"x3\":1,\"y1\":5,\"x2\":1}\n",
      "{'data': [{'ser_num': 'PLZ2022C3', 'lat_c': 35.175984, 'lon_c': 129.123026, 'dof_vib': 3.2, 'dof_tilt': 1, 'err_code': 0, 'temp_in': 8, 'temp_out': 24, 'temp_goal': 5, 'cold_min_left': 251, 'bat_level': 51, 'bat_volt': 371, 'time_stamp': '221012222512', 'wifi_ssid': 'plzhwtest', 'sd_mb_now': 84}]}\n",
      "{'data': [{'01': 1, '11': '01001001001', '12': 'PLZ2022V3', '13': 'd47c44400348', '16': 'abcde12345', '17': '354481106012345', '18': 'AMM574A', '19': 'AMM574A-10-00-LG', '1A': '0612345', '21': '221012222512', '32': 100, '33': 1, '31': 55, '34': 55, '35': 12, '36': 1, '37': '00', '38': 1, '41': 35.175984, '42': 129.123026, '43': 0.798, '44': 231.8, '45': '06', '46': 13.07, '51': 1, '52': 1, '5E': 1, '5F': 1, '61': -75, '62': -16, '63': 13, '64': -50, '65': '0034190E', '66': '450', '67': '08', '68': '0002'}]}\n",
      "200\n",
      "{\"data\":[{\"ser_num\":\"PLZ2022C3\",\"lat_c\":35.175984,\"lon_c\":129.123026,\"dof_vib\":3.2,\"dof_tilt\":1,\"err_code\":0,\"temp_in\":8,\"temp_out\":24,\"temp_goal\":5,\"cold_min_left\":251,\"bat_level\":51,\"bat_volt\":371,\"time_stamp\":\"221012222512\",\"wifi_ssid\":\"plzhwtest\",\"sd_mb_now\":84}]}\n",
      "200\n",
      "{\"z1\":\"00\",\"x1\":1,\"x3\":1,\"y1\":5,\"x2\":1}\n"
     ]
    },
    {
     "name": "stdout",
     "output_type": "stream",
     "text": [
      "{'data': [{'ser_num': 'PLZ2022C3', 'lat_c': 35.175447, 'lon_c': 129.123451, 'dof_vib': 3.2, 'dof_tilt': 1, 'err_code': 0, 'temp_in': 8, 'temp_out': 24, 'temp_goal': 5, 'cold_min_left': 251, 'bat_level': 51, 'bat_volt': 371, 'time_stamp': '221012222517', 'wifi_ssid': 'plzhwtest', 'sd_mb_now': 84}]}\n",
      "{'data': [{'01': 1, '11': '01001001001', '12': 'PLZ2022V3', '13': 'd47c44400348', '16': 'abcde12345', '17': '354481106012345', '18': 'AMM574A', '19': 'AMM574A-10-00-LG', '1A': '0612345', '21': '221012222517', '32': 100, '33': 1, '31': 55, '34': 55, '35': 12, '36': 1, '37': '00', '38': 1, '41': 35.175447, '42': 129.123451, '43': 0.798, '44': 231.8, '45': '06', '46': 13.07, '51': 1, '52': 1, '5E': 1, '5F': 1, '61': -75, '62': -16, '63': 13, '64': -50, '65': '0034190E', '66': '450', '67': '08', '68': '0002'}]}\n",
      "200\n",
      "{\"data\":[{\"ser_num\":\"PLZ2022C3\",\"lat_c\":35.175447,\"lon_c\":129.123451,\"dof_vib\":3.2,\"dof_tilt\":1,\"err_code\":0,\"temp_in\":8,\"temp_out\":24,\"temp_goal\":5,\"cold_min_left\":251,\"bat_level\":51,\"bat_volt\":371,\"time_stamp\":\"221012222517\",\"wifi_ssid\":\"plzhwtest\",\"sd_mb_now\":84}]}\n",
      "200\n",
      "{\"z1\":\"00\",\"x1\":1,\"x3\":1,\"y1\":5,\"x2\":1}\n",
      "{'data': [{'ser_num': 'PLZ2022C3', 'lat_c': 35.17491, 'lon_c': 129.123876, 'dof_vib': 3.2, 'dof_tilt': 1, 'err_code': 0, 'temp_in': 8, 'temp_out': 24, 'temp_goal': 5, 'cold_min_left': 251, 'bat_level': 51, 'bat_volt': 371, 'time_stamp': '221012222522', 'wifi_ssid': 'plzhwtest', 'sd_mb_now': 84}]}\n",
      "{'data': [{'01': 1, '11': '01001001001', '12': 'PLZ2022V3', '13': 'd47c44400348', '16': 'abcde12345', '17': '354481106012345', '18': 'AMM574A', '19': 'AMM574A-10-00-LG', '1A': '0612345', '21': '221012222522', '32': 100, '33': 1, '31': 55, '34': 55, '35': 12, '36': 1, '37': '00', '38': 1, '41': 35.17491, '42': 129.123876, '43': 0.798, '44': 231.8, '45': '06', '46': 13.07, '51': 1, '52': 1, '5E': 1, '5F': 1, '61': -75, '62': -16, '63': 13, '64': -50, '65': '0034190E', '66': '450', '67': '08', '68': '0002'}]}\n",
      "200\n",
      "{\"data\":[{\"ser_num\":\"PLZ2022C3\",\"lat_c\":35.17491,\"lon_c\":129.123876,\"dof_vib\":3.2,\"dof_tilt\":1,\"err_code\":0,\"temp_in\":8,\"temp_out\":24,\"temp_goal\":5,\"cold_min_left\":251,\"bat_level\":51,\"bat_volt\":371,\"time_stamp\":\"221012222522\",\"wifi_ssid\":\"plzhwtest\",\"sd_mb_now\":84}]}\n",
      "200\n",
      "{\"z1\":\"00\",\"x1\":1,\"x3\":1,\"y1\":5,\"x2\":1}\n",
      "{'data': [{'ser_num': 'PLZ2022C3', 'lat_c': 35.174373, 'lon_c': 129.124301, 'dof_vib': 3.2, 'dof_tilt': 1, 'err_code': 0, 'temp_in': 8, 'temp_out': 24, 'temp_goal': 5, 'cold_min_left': 251, 'bat_level': 51, 'bat_volt': 371, 'time_stamp': '221012222527', 'wifi_ssid': 'plzhwtest', 'sd_mb_now': 84}]}\n",
      "{'data': [{'01': 1, '11': '01001001001', '12': 'PLZ2022V3', '13': 'd47c44400348', '16': 'abcde12345', '17': '354481106012345', '18': 'AMM574A', '19': 'AMM574A-10-00-LG', '1A': '0612345', '21': '221012222527', '32': 100, '33': 1, '31': 55, '34': 55, '35': 12, '36': 1, '37': '00', '38': 1, '41': 35.174373, '42': 129.124301, '43': 0.798, '44': 231.8, '45': '06', '46': 13.07, '51': 1, '52': 1, '5E': 1, '5F': 1, '61': -75, '62': -16, '63': 13, '64': -50, '65': '0034190E', '66': '450', '67': '08', '68': '0002'}]}\n",
      "200\n",
      "{\"data\":[{\"ser_num\":\"PLZ2022C3\",\"lat_c\":35.174373,\"lon_c\":129.124301,\"dof_vib\":3.2,\"dof_tilt\":1,\"err_code\":0,\"temp_in\":8,\"temp_out\":24,\"temp_goal\":5,\"cold_min_left\":251,\"bat_level\":51,\"bat_volt\":371,\"time_stamp\":\"221012222527\",\"wifi_ssid\":\"plzhwtest\",\"sd_mb_now\":84}]}\n",
      "200\n",
      "{\"z1\":\"00\",\"x1\":1,\"x3\":1,\"y1\":5,\"x2\":1}\n",
      "{'data': [{'ser_num': 'PLZ2022C3', 'lat_c': 35.173837, 'lon_c': 129.124726, 'dof_vib': 3.2, 'dof_tilt': 1, 'err_code': 0, 'temp_in': 8, 'temp_out': 24, 'temp_goal': 5, 'cold_min_left': 251, 'bat_level': 51, 'bat_volt': 371, 'time_stamp': '221012222532', 'wifi_ssid': 'plzhwtest', 'sd_mb_now': 84}]}\n",
      "{'data': [{'01': 1, '11': '01001001001', '12': 'PLZ2022V3', '13': 'd47c44400348', '16': 'abcde12345', '17': '354481106012345', '18': 'AMM574A', '19': 'AMM574A-10-00-LG', '1A': '0612345', '21': '221012222532', '32': 100, '33': 1, '31': 55, '34': 55, '35': 12, '36': 1, '37': '00', '38': 1, '41': 35.173837, '42': 129.124726, '43': 0.798, '44': 231.8, '45': '06', '46': 13.07, '51': 1, '52': 1, '5E': 1, '5F': 1, '61': -75, '62': -16, '63': 13, '64': -50, '65': '0034190E', '66': '450', '67': '08', '68': '0002'}]}\n",
      "200\n",
      "{\"data\":[{\"ser_num\":\"PLZ2022C3\",\"lat_c\":35.173837,\"lon_c\":129.124726,\"dof_vib\":3.2,\"dof_tilt\":1,\"err_code\":0,\"temp_in\":8,\"temp_out\":24,\"temp_goal\":5,\"cold_min_left\":251,\"bat_level\":51,\"bat_volt\":371,\"time_stamp\":\"221012222532\",\"wifi_ssid\":\"plzhwtest\",\"sd_mb_now\":84}]}\n",
      "200\n",
      "{\"z1\":\"00\",\"x1\":1,\"x3\":1,\"y1\":5,\"x2\":1}\n"
     ]
    },
    {
     "ename": "KeyboardInterrupt",
     "evalue": "",
     "output_type": "error",
     "traceback": [
      "\u001b[1;31m---------------------------------------------------------------------------\u001b[0m",
      "\u001b[1;31mKeyboardInterrupt\u001b[0m                         Traceback (most recent call last)",
      "\u001b[1;32m~\\AppData\\Local\\Temp/ipykernel_26480/3171170313.py\u001b[0m in \u001b[0;36m<module>\u001b[1;34m\u001b[0m\n\u001b[0;32m     42\u001b[0m         \u001b[0mi\u001b[0m\u001b[1;33m=\u001b[0m\u001b[1;36m0\u001b[0m\u001b[1;33m\u001b[0m\u001b[1;33m\u001b[0m\u001b[0m\n\u001b[0;32m     43\u001b[0m         \u001b[1;32mbreak\u001b[0m\u001b[1;33m\u001b[0m\u001b[1;33m\u001b[0m\u001b[0m\n\u001b[1;32m---> 44\u001b[1;33m     \u001b[0mtime\u001b[0m\u001b[1;33m.\u001b[0m\u001b[0msleep\u001b[0m\u001b[1;33m(\u001b[0m\u001b[1;36m5\u001b[0m\u001b[1;33m)\u001b[0m\u001b[1;33m\u001b[0m\u001b[1;33m\u001b[0m\u001b[0m\n\u001b[0m",
      "\u001b[1;31mKeyboardInterrupt\u001b[0m: "
     ]
    }
   ],
   "source": [
    "import time\n",
    "import requests\n",
    "from datetime import datetime\n",
    "\n",
    "i = 0\n",
    "while(True):\n",
    "    now = datetime.now()\n",
    "    myTimestamp = now.strftime('%y%m%d%H%M%S')\n",
    "\n",
    "    myJson_cold['data'][0]['lat_c']=round(myLat[i], 6)\n",
    "    myJson_cold['data'][0]['lon_c']=round(myLon[i], 6)\n",
    "    myJson_cold['data'][0]['time_stamp']=myTimestamp\n",
    "    print(myJson_cold)\n",
    "\n",
    "    myJson_vehicle['data'][0][\"41\"]=round(myLat[i], 6)  #위도(latitude)\n",
    "    myJson_vehicle['data'][0][\"42\"]=round(myLon[i], 6)  #경도(longitude)\n",
    "    myJson_vehicle['data'][0][\"21\"]=myTimestamp  #타임스탬프\n",
    "    print(myJson_vehicle)\n",
    "\n",
    "    url_cold = \"http://gps.plzlab.com/coldChain/insert\"\n",
    "    ser_num_cold = \"PLZ2022C1\"\n",
    "\n",
    "    header_cold = {\"DeviceID\": ser_num_cold, \"Content-Type\": \"application/json;charset=UTF-8\"}\n",
    "\n",
    "    x = requests.post(url_cold, json = myJson_cold, headers= header_cold)\n",
    "\n",
    "    print(x.status_code)\n",
    "    print(x.text)\n",
    "\n",
    "    url_vehicle = \"http://gps.plzlab.com/pmIot/devices/SUL01\"\n",
    "    ser_num_vehicle = \"PLZ2022V1\"\n",
    "\n",
    "    header_vehicle = {\"DeviceID\": ser_num_vehicle, \"Content-Type\": \"application/json;charset=UTF-8\"}\n",
    "\n",
    "    x = requests.post(url_vehicle, json = myJson_vehicle, headers= header_vehicle)\n",
    "\n",
    "    print(x.status_code)\n",
    "    print(x.text)\n",
    "    \n",
    "    i = i+1\n",
    "    if(i>=60):\n",
    "        i=0\n",
    "        break\n",
    "    time.sleep(5)"
   ]
  }
 ],
 "metadata": {
  "kernelspec": {
   "display_name": "Python 3 (ipykernel)",
   "language": "python",
   "name": "python3"
  },
  "language_info": {
   "codemirror_mode": {
    "name": "ipython",
    "version": 3
   },
   "file_extension": ".py",
   "mimetype": "text/x-python",
   "name": "python",
   "nbconvert_exporter": "python",
   "pygments_lexer": "ipython3",
   "version": "3.9.7"
  }
 },
 "nbformat": 4,
 "nbformat_minor": 5
}
