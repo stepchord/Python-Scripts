{
 "cells": [
  {
   "cell_type": "code",
   "execution_count": null,
   "id": "636305ce",
   "metadata": {},
   "outputs": [],
   "source": [
    "from datetime import datetime\n",
    "now = datetime.now()\n",
    "myTimestamp = now.strftime('%y%m%d%H%M%S')"
   ]
  },
  {
   "cell_type": "code",
   "execution_count": null,
   "id": "fd883380",
   "metadata": {},
   "outputs": [],
   "source": [
    "Lat1 = 35.179741; Lon1 = 129.120052\n",
    "Lat2 = 35.163638; Lon2 = 129.132799\n",
    "slope = (Lat2-Lat1)/(Lon2-Lon1)\n",
    "intercept = Lat1 - slope*Lon1  # Equation: Lat = slope * Lon + intercept\n",
    "print(slope)\n",
    "print(intercept)\n",
    "\n",
    "divider = 30  # 구간을 몇분할 할지 \n",
    "interval = (Lon2-Lon1)/divider\n",
    "\n",
    "myLon = [Lon1 + x*interval for x in range(0,30,1)]\n",
    "myLon = myLon + [Lon1 + x*interval for x in range(29,-1,-1)]\n",
    "\n",
    "myLat = [slope*k + intercept for k in myLon]\n",
    "\n",
    "# print(myLon)\n",
    "# print(myLat)\n",
    "print(len(myLon))\n",
    "print(len(myLat))\n"
   ]
  },
  {
   "cell_type": "code",
   "execution_count": null,
   "id": "cee9b32a",
   "metadata": {},
   "outputs": [],
   "source": [
    "import json\n",
    "\n",
    "myJson_cold = {\n",
    "    \"data\": \n",
    "    [\n",
    "        {\"ser_num\":\"PLZ2022C3\",\"lat_c\":35.169538,\"lon_c\":129.135419,\"dof_vib\":3.2,\"dof_tilt\":1,\"err_code\":0,\"temp_in\":8,\"temp_out\":24,\"temp_goal\":5,\"cold_min_left\":251,\"bat_level\":51,\"bat_volt\":371,\"time_stamp\":myTimestamp,\"wifi_ssid\":\"plzhwtest\",\"sd_mb_now\":84},\n",
    "    ]\n",
    "}\n",
    "\n",
    "myJson_vehicle = {\n",
    "    \"data\": \n",
    "    [\n",
    "        {\"01\":1,\"11\":\"01001001001\",\"12\":\"PLZ2022V3\",\"13\":\"d47c44400348\",\"16\":\"abcde12345\",\"17\":\"354481106012345\",\"18\":\"AMM574A\",\"19\":\"AMM574A-10-00-LG\",\"1A\":\"0612345\",\"21\":myTimestamp,\"32\":100,\"33\":1,\"31\":55,\"34\":55,\"35\":12,\"36\":1,\"37\":\"00\",\"38\":1,\"41\":35.169538,\"42\":129.135419,\"43\":0.798,\"44\":231.8,\"45\":\"06\",\"46\":13.07,\"51\":1,\"52\":1,\"5E\":1,\"5F\":1,\"61\":-75,\"62\":-16,\"63\":13,\"64\":-50,\"65\":\"0034190E\",\"66\":\"450\",\"67\":\"08\",\"68\":\"0002\"},\n",
    "    ]\n",
    "}\n",
    "\n",
    "print(myJson_cold)\n",
    "print(myJson_vehicle)"
   ]
  },
  {
   "cell_type": "code",
   "execution_count": null,
   "id": "561447d3",
   "metadata": {},
   "outputs": [],
   "source": [
    "import time\n",
    "import requests\n",
    "from datetime import datetime\n",
    "\n",
    "i = 0\n",
    "while(True):\n",
    "    now = datetime.now()\n",
    "    myTimestamp = now.strftime('%y%m%d%H%M%S')\n",
    "\n",
    "    myJson_cold['data'][0]['lat_c']=round(myLat[i], 6)\n",
    "    myJson_cold['data'][0]['lon_c']=round(myLon[i], 6)\n",
    "    myJson_cold['data'][0]['time_stamp']=myTimestamp\n",
    "    print(myJson_cold)\n",
    "\n",
    "    myJson_vehicle['data'][0][\"41\"]=round(myLat[i], 6)  #위도(latitude)\n",
    "    myJson_vehicle['data'][0][\"42\"]=round(myLon[i], 6)  #경도(longitude)\n",
    "    myJson_vehicle['data'][0][\"21\"]=myTimestamp  #타임스탬프\n",
    "    print(myJson_vehicle)\n",
    "\n",
    "    url_cold = \"http://gps.plzlab.com/coldChain/insert\"\n",
    "    ser_num_cold = \"PLZ2022C1\"\n",
    "\n",
    "    header_cold = {\"DeviceID\": ser_num_cold, \"Content-Type\": \"application/json;charset=UTF-8\"}\n",
    "\n",
    "    x = requests.post(url_cold, json = myJson_cold, headers= header_cold)\n",
    "\n",
    "    print(x.status_code)\n",
    "    print(x.text)\n",
    "\n",
    "    url_vehicle = \"http://gps.plzlab.com/pmIot/devices/SUL01\"\n",
    "    ser_num_vehicle = \"PLZ2022V1\"\n",
    "\n",
    "    header_vehicle = {\"DeviceID\": ser_num_vehicle, \"Content-Type\": \"application/json;charset=UTF-8\"}\n",
    "\n",
    "    x = requests.post(url_vehicle, json = myJson_vehicle, headers= header_vehicle)\n",
    "\n",
    "    print(x.status_code)\n",
    "    print(x.text)\n",
    "    \n",
    "    i = i+1\n",
    "    if(i>=60):\n",
    "        i=0\n",
    "        break\n",
    "    time.sleep(5)"
   ]
  }
 ],
 "metadata": {
  "kernelspec": {
   "display_name": "Python 3 (ipykernel)",
   "language": "python",
   "name": "python3"
  },
  "language_info": {
   "codemirror_mode": {
    "name": "ipython",
    "version": 3
   },
   "file_extension": ".py",
   "mimetype": "text/x-python",
   "name": "python",
   "nbconvert_exporter": "python",
   "pygments_lexer": "ipython3",
   "version": "3.9.7"
  }
 },
 "nbformat": 4,
 "nbformat_minor": 5
}
